{
 "cells": [
  {
   "cell_type": "markdown",
   "id": "f7e85991",
   "metadata": {},
   "source": [
    "# Model"
   ]
  },
  {
   "cell_type": "markdown",
   "id": "3e3db3f7",
   "metadata": {},
   "source": [
    "# Importations"
   ]
  },
  {
   "cell_type": "code",
   "execution_count": 3,
   "id": "86c0e201",
   "metadata": {},
   "outputs": [],
   "source": [
    "# Librairies\n",
    "\n",
    "import pandas as pd\n",
    "import numpy as np\n",
    "import matplotlib.pyplot as plt"
   ]
  },
  {
   "cell_type": "code",
   "execution_count": 2,
   "id": "9cbbdd37",
   "metadata": {},
   "outputs": [
    {
     "data": {
      "text/html": [
       "<div>\n",
       "<style scoped>\n",
       "    .dataframe tbody tr th:only-of-type {\n",
       "        vertical-align: middle;\n",
       "    }\n",
       "\n",
       "    .dataframe tbody tr th {\n",
       "        vertical-align: top;\n",
       "    }\n",
       "\n",
       "    .dataframe thead th {\n",
       "        text-align: right;\n",
       "    }\n",
       "</style>\n",
       "<table border=\"1\" class=\"dataframe\">\n",
       "  <thead>\n",
       "    <tr style=\"text-align: right;\">\n",
       "      <th></th>\n",
       "      <th>id</th>\n",
       "      <th>ABSTRACT</th>\n",
       "      <th>Computer Science</th>\n",
       "      <th>Mathematics</th>\n",
       "      <th>Physics</th>\n",
       "      <th>Statistics</th>\n",
       "      <th>Analysis of PDEs</th>\n",
       "      <th>Applications</th>\n",
       "      <th>Artificial Intelligence</th>\n",
       "      <th>Astrophysics of Galaxies</th>\n",
       "      <th>...</th>\n",
       "      <th>Methodology</th>\n",
       "      <th>Number Theory</th>\n",
       "      <th>Optimization and Control</th>\n",
       "      <th>Representation Theory</th>\n",
       "      <th>Robotics</th>\n",
       "      <th>Social and Information Networks</th>\n",
       "      <th>Statistics Theory</th>\n",
       "      <th>Strongly Correlated Electrons</th>\n",
       "      <th>Superconductivity</th>\n",
       "      <th>Systems and Control</th>\n",
       "    </tr>\n",
       "  </thead>\n",
       "  <tbody>\n",
       "    <tr>\n",
       "      <th>0</th>\n",
       "      <td>1824</td>\n",
       "      <td>a ever-growing datasets inside observational a...</td>\n",
       "      <td>0</td>\n",
       "      <td>0</td>\n",
       "      <td>1</td>\n",
       "      <td>0</td>\n",
       "      <td>0</td>\n",
       "      <td>0</td>\n",
       "      <td>0</td>\n",
       "      <td>0</td>\n",
       "      <td>...</td>\n",
       "      <td>0</td>\n",
       "      <td>0</td>\n",
       "      <td>0</td>\n",
       "      <td>0</td>\n",
       "      <td>0</td>\n",
       "      <td>0</td>\n",
       "      <td>0</td>\n",
       "      <td>0</td>\n",
       "      <td>0</td>\n",
       "      <td>0</td>\n",
       "    </tr>\n",
       "    <tr>\n",
       "      <th>1</th>\n",
       "      <td>3094</td>\n",
       "      <td>we propose the framework considering optimal $...</td>\n",
       "      <td>1</td>\n",
       "      <td>0</td>\n",
       "      <td>0</td>\n",
       "      <td>0</td>\n",
       "      <td>0</td>\n",
       "      <td>0</td>\n",
       "      <td>0</td>\n",
       "      <td>0</td>\n",
       "      <td>...</td>\n",
       "      <td>0</td>\n",
       "      <td>0</td>\n",
       "      <td>0</td>\n",
       "      <td>0</td>\n",
       "      <td>0</td>\n",
       "      <td>0</td>\n",
       "      <td>0</td>\n",
       "      <td>0</td>\n",
       "      <td>0</td>\n",
       "      <td>0</td>\n",
       "    </tr>\n",
       "    <tr>\n",
       "      <th>2</th>\n",
       "      <td>8463</td>\n",
       "      <td>nanostructures with open shell transition meta...</td>\n",
       "      <td>0</td>\n",
       "      <td>0</td>\n",
       "      <td>1</td>\n",
       "      <td>0</td>\n",
       "      <td>0</td>\n",
       "      <td>0</td>\n",
       "      <td>0</td>\n",
       "      <td>0</td>\n",
       "      <td>...</td>\n",
       "      <td>0</td>\n",
       "      <td>0</td>\n",
       "      <td>0</td>\n",
       "      <td>0</td>\n",
       "      <td>0</td>\n",
       "      <td>0</td>\n",
       "      <td>0</td>\n",
       "      <td>1</td>\n",
       "      <td>0</td>\n",
       "      <td>0</td>\n",
       "    </tr>\n",
       "  </tbody>\n",
       "</table>\n",
       "<p>3 rows × 31 columns</p>\n",
       "</div>"
      ],
      "text/plain": [
       "     id                                           ABSTRACT  Computer Science   \n",
       "0  1824  a ever-growing datasets inside observational a...                 0  \\\n",
       "1  3094  we propose the framework considering optimal $...                 1   \n",
       "2  8463  nanostructures with open shell transition meta...                 0   \n",
       "\n",
       "   Mathematics  Physics  Statistics  Analysis of PDEs  Applications   \n",
       "0            0        1           0                 0             0  \\\n",
       "1            0        0           0                 0             0   \n",
       "2            0        1           0                 0             0   \n",
       "\n",
       "   Artificial Intelligence  Astrophysics of Galaxies  ...  Methodology   \n",
       "0                        0                         0  ...            0  \\\n",
       "1                        0                         0  ...            0   \n",
       "2                        0                         0  ...            0   \n",
       "\n",
       "   Number Theory  Optimization and Control  Representation Theory  Robotics   \n",
       "0              0                         0                      0         0  \\\n",
       "1              0                         0                      0         0   \n",
       "2              0                         0                      0         0   \n",
       "\n",
       "   Social and Information Networks  Statistics Theory   \n",
       "0                                0                  0  \\\n",
       "1                                0                  0   \n",
       "2                                0                  0   \n",
       "\n",
       "   Strongly Correlated Electrons  Superconductivity  Systems and Control  \n",
       "0                              0                  0                    0  \n",
       "1                              0                  0                    0  \n",
       "2                              1                  0                    0  \n",
       "\n",
       "[3 rows x 31 columns]"
      ]
     },
     "execution_count": 2,
     "metadata": {},
     "output_type": "execute_result"
    }
   ],
   "source": [
    "# import the train dataset\n",
    "df_train = pd.read_csv('data/Train_topic.csv')\n",
    "df_train.head(3)"
   ]
  },
  {
   "cell_type": "code",
   "execution_count": 3,
   "id": "2bfee7fa",
   "metadata": {},
   "outputs": [
    {
     "data": {
      "text/html": [
       "<div>\n",
       "<style scoped>\n",
       "    .dataframe tbody tr th:only-of-type {\n",
       "        vertical-align: middle;\n",
       "    }\n",
       "\n",
       "    .dataframe tbody tr th {\n",
       "        vertical-align: top;\n",
       "    }\n",
       "\n",
       "    .dataframe thead th {\n",
       "        text-align: right;\n",
       "    }\n",
       "</style>\n",
       "<table border=\"1\" class=\"dataframe\">\n",
       "  <thead>\n",
       "    <tr style=\"text-align: right;\">\n",
       "      <th></th>\n",
       "      <th>id</th>\n",
       "      <th>ABSTRACT</th>\n",
       "      <th>Computer Science</th>\n",
       "      <th>Mathematics</th>\n",
       "      <th>Physics</th>\n",
       "      <th>Statistics</th>\n",
       "    </tr>\n",
       "  </thead>\n",
       "  <tbody>\n",
       "    <tr>\n",
       "      <th>0</th>\n",
       "      <td>9409</td>\n",
       "      <td>fundamental frequency (f0) approximation from ...</td>\n",
       "      <td>0</td>\n",
       "      <td>0</td>\n",
       "      <td>0</td>\n",
       "      <td>1</td>\n",
       "    </tr>\n",
       "    <tr>\n",
       "      <th>1</th>\n",
       "      <td>17934</td>\n",
       "      <td>this large-scale study, consisting of 24.5 mil...</td>\n",
       "      <td>1</td>\n",
       "      <td>0</td>\n",
       "      <td>0</td>\n",
       "      <td>1</td>\n",
       "    </tr>\n",
       "    <tr>\n",
       "      <th>2</th>\n",
       "      <td>16071</td>\n",
       "      <td>we present a stability analysis of the plane c...</td>\n",
       "      <td>0</td>\n",
       "      <td>0</td>\n",
       "      <td>1</td>\n",
       "      <td>0</td>\n",
       "    </tr>\n",
       "  </tbody>\n",
       "</table>\n",
       "</div>"
      ],
      "text/plain": [
       "      id                                           ABSTRACT  Computer Science   \n",
       "0   9409  fundamental frequency (f0) approximation from ...                 0  \\\n",
       "1  17934  this large-scale study, consisting of 24.5 mil...                 1   \n",
       "2  16071  we present a stability analysis of the plane c...                 0   \n",
       "\n",
       "   Mathematics  Physics  Statistics  \n",
       "0            0        0           1  \n",
       "1            0        0           1  \n",
       "2            0        1           0  "
      ]
     },
     "execution_count": 3,
     "metadata": {},
     "output_type": "execute_result"
    }
   ],
   "source": [
    "# import the test dataset\n",
    "df_test = pd.read_csv('data/Test_topic.csv')\n",
    "df_test.head(3)"
   ]
  },
  {
   "cell_type": "markdown",
   "id": "9de444cf",
   "metadata": {},
   "source": [
    "# Models"
   ]
  },
  {
   "cell_type": "markdown",
   "id": "024b514e",
   "metadata": {
    "heading_collapsed": true
   },
   "source": [
    "## Model LDA"
   ]
  },
  {
   "cell_type": "code",
   "execution_count": null,
   "id": "8d08539d",
   "metadata": {
    "hidden": true
   },
   "outputs": [],
   "source": [
    "# start model LDA"
   ]
  },
  {
   "cell_type": "code",
   "execution_count": null,
   "id": "7fc10ea0",
   "metadata": {
    "hidden": true
   },
   "outputs": [],
   "source": []
  },
  {
   "cell_type": "markdown",
   "id": "4b1d2dee",
   "metadata": {},
   "source": [
    "## Model Classification"
   ]
  },
  {
   "cell_type": "markdown",
   "id": "c9192836",
   "metadata": {},
   "source": [
    "### Imports"
   ]
  },
  {
   "cell_type": "code",
   "execution_count": null,
   "id": "02b8023f",
   "metadata": {},
   "outputs": [],
   "source": [
    "import nltk\n",
    "nltk.download('stopwords') \n",
    "nltk.download('wordnet')\n",
    "#nltk.download('movie_reviews')\n",
    "\n",
    "import pandas as pd\n",
    "#from nltk.corpus import movie_reviews, stopwords\n",
    "\n",
    "from nltk.stem import WordNetLemmatizer\n",
    "from nltk.tokenize import RegexpTokenizer\n",
    "from sklearn.model_selection import train_test_split, cross_val_score, cross_val_predict, GridSearchCV\n",
    "from sklearn.feature_extraction.text import TfidfVectorizer\n",
    "from sklearn.linear_model import SGDClassifier\n",
    "from sklearn.pipeline import Pipeline\n",
    "from sklearn.metrics import confusion_matrix, accuracy_score"
   ]
  },
  {
   "cell_type": "markdown",
   "id": "ee7ea95a",
   "metadata": {
    "heading_collapsed": true
   },
   "source": [
    "### Data preparation"
   ]
  },
  {
   "cell_type": "markdown",
   "id": "007361f9",
   "metadata": {
    "hidden": true
   },
   "source": [
    "We will transform movie_reviews tagged corpus from nltk to a pandas dataframe with the script below:"
   ]
  },
  {
   "cell_type": "code",
   "execution_count": null,
   "id": "de059d5e",
   "metadata": {
    "hidden": true
   },
   "outputs": [],
   "source": [
    "# Script copied from here\n",
    "reviews = []\n",
    "for fileid in movie_reviews.fileids():\n",
    "    tag, filename = fileid.split('/')\n",
    "    reviews.append((tag, movie_reviews.raw(fileid)))\n",
    "sample = pd.DataFrame(reviews, columns=['target', 'document'])\n",
    "print(f'Dimensions: {sample.shape}')\n",
    "sample.head()"
   ]
  },
  {
   "cell_type": "markdown",
   "id": "ca0d28ac",
   "metadata": {
    "hidden": true
   },
   "source": [
    "You will see that the dataframe has 2 columns: a column for the targets, the polarity sentiment, and a column for the reviews (i.e. documents) for 2000 reviews. Each review is either tagged as positive or negative review. Let’s check the counts of the target classes"
   ]
  },
  {
   "cell_type": "code",
   "execution_count": null,
   "id": "1b170fc0",
   "metadata": {
    "hidden": true
   },
   "outputs": [],
   "source": [
    "sample['target'].value_counts()"
   ]
  },
  {
   "cell_type": "markdown",
   "id": "e57e809a",
   "metadata": {
    "hidden": true
   },
   "source": [
    "Each class (i.e. ‘pos’, ‘neg’) has 1000 records each, perfectly balanced. Let’s ensure that the classes are binary coded:"
   ]
  },
  {
   "cell_type": "code",
   "execution_count": null,
   "id": "c2d18f4c",
   "metadata": {
    "hidden": true
   },
   "outputs": [],
   "source": [
    "sample['target'] = np.where(sample['target']=='pos', 1, 0)\n",
    "sample['target'].value_counts()"
   ]
  },
  {
   "cell_type": "markdown",
   "id": "be91fc61",
   "metadata": {
    "heading_collapsed": true
   },
   "source": [
    "### Partition data"
   ]
  },
  {
   "cell_type": "markdown",
   "id": "0ae60145",
   "metadata": {
    "hidden": true
   },
   "source": [
    "Split the sample data into 3 groups:\n",
    "- train\n",
    "- validation\n",
    "- test\n",
    "\n",
    "train is used to fit the model,\n",
    "validation is used to evaluate fitness of interim models,\n",
    "and test is used to assess final model fitness."
   ]
  },
  {
   "cell_type": "code",
   "execution_count": null,
   "id": "bfed86b4",
   "metadata": {
    "hidden": true
   },
   "outputs": [],
   "source": [
    "# Split train and test\n",
    "\n",
    "X_train, X_test, y_train, y_test = train_test_split(sample['document'], sample['target'], test_size=0.3, random_state=123)\n",
    "print(f'Train dimensions: {X_train.shape, y_train.shape}')\n",
    "print(f'Test dimensions: {X_test.shape, y_test.shape}')\n",
    "\n",
    "# Check out target distribution\n",
    "\n",
    "print(y_train.value_counts())\n",
    "print(y_test.value_counts())"
   ]
  },
  {
   "cell_type": "markdown",
   "id": "4e950315",
   "metadata": {
    "heading_collapsed": true
   },
   "source": [
    "### Preprocess documents"
   ]
  },
  {
   "cell_type": "markdown",
   "id": "3cca6a41",
   "metadata": {
    "hidden": true
   },
   "source": [
    "Preprocess training documents, that is to transform unstructured data to a matrix of numbers.\n",
    "\n",
    "Let’s preprocess the text using an approach called bag-of-word where each text is represented by its words regardless of the order in which they are presented or the embedded grammar with the following steps:\n",
    "\n",
    "- Tokenise\n",
    "- Normalise\n",
    "- Remove stop words\n",
    "- Count vectorise\n",
    "- Transform to tf-idf representation"
   ]
  },
  {
   "cell_type": "code",
   "execution_count": null,
   "id": "516f759d",
   "metadata": {
    "hidden": true
   },
   "outputs": [],
   "source": [
    "def preprocess_text(text):\n",
    "    # Tokenise words while ignoring punctuation\n",
    "    tokeniser = RegexpTokenizer(r'\\w+')\n",
    "    tokens = tokeniser.tokenize(text)\n",
    "    \n",
    "    # Lowercase and lemmatise \n",
    "    lemmatiser = WordNetLemmatizer()\n",
    "    lemmas = [lemmatiser.lemmatize(token.lower(), pos='v') for token in tokens]\n",
    "    \n",
    "    # Remove stop words\n",
    "    keywords= [lemma for lemma in lemmas if lemma not in stopwords.words('english')]\n",
    "    return keywords\n",
    "# Create an instance of TfidfVectorizer\n",
    "vectoriser = TfidfVectorizer(analyzer=preprocess_text)\n",
    "# Fit to the data and transform to feature matrix\n",
    "X_train_tfidf = vectoriser.fit_transform(X_train)\n",
    "X_train_tfidf.shape"
   ]
  },
  {
   "cell_type": "markdown",
   "id": "9bdc6d22",
   "metadata": {
    "heading_collapsed": true
   },
   "source": [
    "### Baseline model"
   ]
  },
  {
   "cell_type": "code",
   "execution_count": null,
   "id": "31c93346",
   "metadata": {
    "hidden": true
   },
   "outputs": [],
   "source": [
    "# SGDClassifier model\n",
    "\n",
    "sgd_clf = SGDClassifier(random_state=123)\n",
    "sgf_clf_scores = cross_val_score(sgd_clf, X_train_tfidf, y_train, cv=5)\n",
    "print(sgf_clf_scores)\n",
    "print(\"Accuracy: %0.2f (+/- %0.2f)\" % (sgf_clf_scores.mean(), sgf_clf_scores.std() * 2))"
   ]
  },
  {
   "cell_type": "code",
   "execution_count": null,
   "id": "20d75349",
   "metadata": {
    "hidden": true
   },
   "outputs": [],
   "source": [
    "# Cross val score\n",
    "\n",
    "cross_val_score(sgd_clf, X_train_tfidf, y_train, cv=5, scoring='accuracy')"
   ]
  },
  {
   "cell_type": "code",
   "execution_count": null,
   "id": "a6d600e6",
   "metadata": {
    "hidden": true
   },
   "outputs": [],
   "source": [
    "# Confusion matrix\n",
    "\n",
    "sgf_clf_pred = cross_val_predict(sgd_clf, X_train_tfidf, y_train, cv=5)\n",
    "print(confusion_matrix(y_train, sgf_clf_pred))"
   ]
  },
  {
   "cell_type": "markdown",
   "id": "a84c0669",
   "metadata": {
    "heading_collapsed": true
   },
   "source": [
    "### Improving performance"
   ]
  },
  {
   "cell_type": "markdown",
   "id": "6b19879b",
   "metadata": {
    "hidden": true
   },
   "source": [
    "The purpose of this section is to find the best machine learning algorithm as well as its hyperparameters"
   ]
  },
  {
   "cell_type": "code",
   "execution_count": null,
   "id": "6e8bf1f2",
   "metadata": {
    "hidden": true
   },
   "outputs": [],
   "source": [
    "# Do a grid search in order to find the best values for the hyperparameters\n",
    "\n",
    "grid = {'fit_intercept': [True,False],\n",
    "        'early_stopping': [True, False],\n",
    "        'loss' : ['hinge', 'log', 'squared_hinge'],\n",
    "        'penalty' : ['l2', 'l1', 'none']}\n",
    "search = GridSearchCV(estimator=sgd_clf, param_grid=grid, cv=5)\n",
    "search.fit(X_train_tfidf, y_train)\n",
    "search.best_params_"
   ]
  },
  {
   "cell_type": "markdown",
   "id": "212edb2c",
   "metadata": {
    "hidden": true
   },
   "source": [
    "Let’s train and validate the model using these values for the selected hyperparameters"
   ]
  },
  {
   "cell_type": "markdown",
   "id": "5b68b01c",
   "metadata": {
    "heading_collapsed": true
   },
   "source": [
    "### Final model"
   ]
  },
  {
   "cell_type": "code",
   "execution_count": null,
   "id": "06c8cc75",
   "metadata": {
    "hidden": true
   },
   "outputs": [],
   "source": [
    "# Pipeline\n",
    "\n",
    "pipe = Pipeline([('vectoriser', vectoriser),\n",
    "                 ('classifier', search.best_estimator_)])\n",
    "pipe.fit(X_train, y_train)"
   ]
  },
  {
   "cell_type": "code",
   "execution_count": null,
   "id": "35ca08dc",
   "metadata": {
    "hidden": true
   },
   "outputs": [],
   "source": [
    "# Confusion matrix\n",
    "\n",
    "y_test_pred = pipe.predict(X_test)\n",
    "print(\"Accuracy: %0.2f\" % (accuracy_score(y_test, y_test_pred)))\n",
    "print(confusion_matrix(y_test, y_test_pred))"
   ]
  },
  {
   "cell_type": "markdown",
   "id": "52cc9d5f",
   "metadata": {},
   "source": [
    "### Test2"
   ]
  },
  {
   "cell_type": "code",
   "execution_count": null,
   "id": "64dc6535",
   "metadata": {},
   "outputs": [],
   "source": [
    "# imports\n",
    "\n",
    "from sklearn.feature_extraction.text import TfidfVectorizer\n",
    "from sklearn.linear_model import LogisticRegression\n",
    "from sklearn.metrics import classification_report"
   ]
  },
  {
   "cell_type": "code",
   "execution_count": 4,
   "id": "9d742bbb",
   "metadata": {},
   "outputs": [
    {
     "data": {
      "text/html": [
       "<div>\n",
       "<style scoped>\n",
       "    .dataframe tbody tr th:only-of-type {\n",
       "        vertical-align: middle;\n",
       "    }\n",
       "\n",
       "    .dataframe tbody tr th {\n",
       "        vertical-align: top;\n",
       "    }\n",
       "\n",
       "    .dataframe thead th {\n",
       "        text-align: right;\n",
       "    }\n",
       "</style>\n",
       "<table border=\"1\" class=\"dataframe\">\n",
       "  <thead>\n",
       "    <tr style=\"text-align: right;\">\n",
       "      <th></th>\n",
       "      <th>id</th>\n",
       "      <th>ABSTRACT</th>\n",
       "      <th>Computer Science</th>\n",
       "      <th>Mathematics</th>\n",
       "      <th>Physics</th>\n",
       "      <th>Statistics</th>\n",
       "      <th>Analysis of PDEs</th>\n",
       "      <th>Applications</th>\n",
       "      <th>Artificial Intelligence</th>\n",
       "      <th>Astrophysics of Galaxies</th>\n",
       "      <th>...</th>\n",
       "      <th>Methodology</th>\n",
       "      <th>Number Theory</th>\n",
       "      <th>Optimization and Control</th>\n",
       "      <th>Representation Theory</th>\n",
       "      <th>Robotics</th>\n",
       "      <th>Social and Information Networks</th>\n",
       "      <th>Statistics Theory</th>\n",
       "      <th>Strongly Correlated Electrons</th>\n",
       "      <th>Superconductivity</th>\n",
       "      <th>Systems and Control</th>\n",
       "    </tr>\n",
       "  </thead>\n",
       "  <tbody>\n",
       "    <tr>\n",
       "      <th>0</th>\n",
       "      <td>1824</td>\n",
       "      <td>a ever-growing datasets inside observational a...</td>\n",
       "      <td>0</td>\n",
       "      <td>0</td>\n",
       "      <td>1</td>\n",
       "      <td>0</td>\n",
       "      <td>0</td>\n",
       "      <td>0</td>\n",
       "      <td>0</td>\n",
       "      <td>0</td>\n",
       "      <td>...</td>\n",
       "      <td>0</td>\n",
       "      <td>0</td>\n",
       "      <td>0</td>\n",
       "      <td>0</td>\n",
       "      <td>0</td>\n",
       "      <td>0</td>\n",
       "      <td>0</td>\n",
       "      <td>0</td>\n",
       "      <td>0</td>\n",
       "      <td>0</td>\n",
       "    </tr>\n",
       "    <tr>\n",
       "      <th>1</th>\n",
       "      <td>3094</td>\n",
       "      <td>we propose the framework considering optimal $...</td>\n",
       "      <td>1</td>\n",
       "      <td>0</td>\n",
       "      <td>0</td>\n",
       "      <td>0</td>\n",
       "      <td>0</td>\n",
       "      <td>0</td>\n",
       "      <td>0</td>\n",
       "      <td>0</td>\n",
       "      <td>...</td>\n",
       "      <td>0</td>\n",
       "      <td>0</td>\n",
       "      <td>0</td>\n",
       "      <td>0</td>\n",
       "      <td>0</td>\n",
       "      <td>0</td>\n",
       "      <td>0</td>\n",
       "      <td>0</td>\n",
       "      <td>0</td>\n",
       "      <td>0</td>\n",
       "    </tr>\n",
       "    <tr>\n",
       "      <th>2</th>\n",
       "      <td>8463</td>\n",
       "      <td>nanostructures with open shell transition meta...</td>\n",
       "      <td>0</td>\n",
       "      <td>0</td>\n",
       "      <td>1</td>\n",
       "      <td>0</td>\n",
       "      <td>0</td>\n",
       "      <td>0</td>\n",
       "      <td>0</td>\n",
       "      <td>0</td>\n",
       "      <td>...</td>\n",
       "      <td>0</td>\n",
       "      <td>0</td>\n",
       "      <td>0</td>\n",
       "      <td>0</td>\n",
       "      <td>0</td>\n",
       "      <td>0</td>\n",
       "      <td>0</td>\n",
       "      <td>1</td>\n",
       "      <td>0</td>\n",
       "      <td>0</td>\n",
       "    </tr>\n",
       "  </tbody>\n",
       "</table>\n",
       "<p>3 rows × 31 columns</p>\n",
       "</div>"
      ],
      "text/plain": [
       "     id                                           ABSTRACT  Computer Science   \n",
       "0  1824  a ever-growing datasets inside observational a...                 0  \\\n",
       "1  3094  we propose the framework considering optimal $...                 1   \n",
       "2  8463  nanostructures with open shell transition meta...                 0   \n",
       "\n",
       "   Mathematics  Physics  Statistics  Analysis of PDEs  Applications   \n",
       "0            0        1           0                 0             0  \\\n",
       "1            0        0           0                 0             0   \n",
       "2            0        1           0                 0             0   \n",
       "\n",
       "   Artificial Intelligence  Astrophysics of Galaxies  ...  Methodology   \n",
       "0                        0                         0  ...            0  \\\n",
       "1                        0                         0  ...            0   \n",
       "2                        0                         0  ...            0   \n",
       "\n",
       "   Number Theory  Optimization and Control  Representation Theory  Robotics   \n",
       "0              0                         0                      0         0  \\\n",
       "1              0                         0                      0         0   \n",
       "2              0                         0                      0         0   \n",
       "\n",
       "   Social and Information Networks  Statistics Theory   \n",
       "0                                0                  0  \\\n",
       "1                                0                  0   \n",
       "2                                0                  0   \n",
       "\n",
       "   Strongly Correlated Electrons  Superconductivity  Systems and Control  \n",
       "0                              0                  0                    0  \n",
       "1                              0                  0                    0  \n",
       "2                              1                  0                    0  \n",
       "\n",
       "[3 rows x 31 columns]"
      ]
     },
     "execution_count": 4,
     "metadata": {},
     "output_type": "execute_result"
    }
   ],
   "source": [
    "# import the train dataset\n",
    "\n",
    "df = pd.read_csv('data/Train_topic.csv')\n",
    "df.head(3)"
   ]
  },
  {
   "cell_type": "code",
   "execution_count": 5,
   "id": "0cdcad0b",
   "metadata": {},
   "outputs": [
    {
     "data": {
      "text/plain": [
       "(14004, 31)"
      ]
     },
     "execution_count": 5,
     "metadata": {},
     "output_type": "execute_result"
    }
   ],
   "source": [
    "df.shape"
   ]
  },
  {
   "cell_type": "code",
   "execution_count": null,
   "id": "00dc582d",
   "metadata": {},
   "outputs": [],
   "source": [
    "# Set the desired sample size\n",
    "sample_size = 7000\n",
    "\n",
    "# Create a random sample\n",
    "random_sample = df.sample(n=sample_size, random_state=42)\n",
    "\n",
    "# Save the random sample as a new Parquet file\n",
    "random_sample.to_parquet('random_sample_7000.parquet')"
   ]
  },
  {
   "cell_type": "code",
   "execution_count": null,
   "id": "087becd0",
   "metadata": {},
   "outputs": [],
   "source": [
    "#!pip install pyarrow"
   ]
  },
  {
   "cell_type": "code",
   "execution_count": null,
   "id": "9f3ef172",
   "metadata": {},
   "outputs": [],
   "source": [
    "#!pip install fastparquet"
   ]
  },
  {
   "cell_type": "code",
   "execution_count": null,
   "id": "c8c61daf",
   "metadata": {},
   "outputs": [],
   "source": []
  },
  {
   "cell_type": "code",
   "execution_count": null,
   "id": "3aa307a9",
   "metadata": {},
   "outputs": [],
   "source": [
    "from sklearn.tree import DecisionTreeClassifier\n",
    "from sklearn.metrics import accuracy_score\n",
    "\n",
    "# Split the data into training and testing sets\n",
    "X = df_train.drop(['id', 'ABSTRACT'], axis=1)\n",
    "y = df_train['ABSTRACT']\n",
    "X_train, X_test, y_train, y_test = train_test_split(X, y, test_size=0.2, random_state=42)\n",
    "\n",
    "# test set some topics dont match so not working\n",
    "# X_train = df_train.drop(['id', 'ABSTRACT'], axis=1)\n",
    "# y_train = df_train['ABSTRACT']\n",
    "# X_test = df_test.drop(['id', 'ABSTRACT'], axis=1)\n",
    "# y_test = df_test['ABSTRACT']\n",
    "\n",
    "# Initialize and train the classifier\n",
    "classifier = DecisionTreeClassifier()\n",
    "classifier.fit(X_train, y_train)\n",
    "\n",
    "# Make predictions on the test set\n",
    "y_pred = classifier.predict(X_test)\n",
    "\n",
    "# Evaluate the model\n",
    "accuracy = accuracy_score(y_test, y_pred)\n",
    "print('Accuracy:', accuracy)"
   ]
  },
  {
   "cell_type": "code",
   "execution_count": null,
   "id": "61d1c904",
   "metadata": {},
   "outputs": [],
   "source": [
    "from sklearn.model_selection import train_test_split\n",
    "from sklearn.ensemble import RandomForestClassifier\n",
    "from sklearn.metrics import accuracy_score\n",
    "\n",
    "# Split the data into training and testing sets\n",
    "X = df_train.drop(['id', 'ABSTRACT'], axis=1)\n",
    "y = df_train['ABSTRACT']\n",
    "X_train, X_test, y_train, y_test = train_test_split(X, y, test_size=0.2, random_state=42)\n",
    "\n",
    "# Initialize and train the classifier\n",
    "classifier = RandomForestClassifier()\n",
    "classifier.fit(X_train, y_train)\n",
    "\n",
    "# Make predictions on the test set\n",
    "y_pred = classifier.predict(X_test)\n",
    "\n",
    "# Evaluate the model\n",
    "accuracy = accuracy_score(y_test, y_pred)\n",
    "print('Accuracy:', accuracy)"
   ]
  },
  {
   "cell_type": "markdown",
   "id": "8513c08b",
   "metadata": {},
   "source": [
    "# Models save"
   ]
  },
  {
   "cell_type": "code",
   "execution_count": null,
   "id": "995193fa",
   "metadata": {},
   "outputs": [],
   "source": []
  },
  {
   "cell_type": "code",
   "execution_count": null,
   "id": "6f970368",
   "metadata": {},
   "outputs": [],
   "source": []
  }
 ],
 "metadata": {
  "kernelspec": {
   "display_name": "Python 3 (ipykernel)",
   "language": "python",
   "name": "python3"
  },
  "language_info": {
   "codemirror_mode": {
    "name": "ipython",
    "version": 3
   },
   "file_extension": ".py",
   "mimetype": "text/x-python",
   "name": "python",
   "nbconvert_exporter": "python",
   "pygments_lexer": "ipython3",
   "version": "3.8.12"
  },
  "toc": {
   "base_numbering": 1,
   "nav_menu": {},
   "number_sections": true,
   "sideBar": true,
   "skip_h1_title": false,
   "title_cell": "Table of Contents",
   "title_sidebar": "Contents",
   "toc_cell": false,
   "toc_position": {},
   "toc_section_display": true,
   "toc_window_display": false
  }
 },
 "nbformat": 4,
 "nbformat_minor": 5
}
